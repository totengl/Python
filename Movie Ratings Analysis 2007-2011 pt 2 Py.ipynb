{
 "cells": [
  {
   "cell_type": "code",
   "execution_count": 1,
   "metadata": {},
   "outputs": [],
   "source": [
    "import pandas as pd\n",
    "import os"
   ]
  },
  {
   "cell_type": "code",
   "execution_count": 20,
   "metadata": {},
   "outputs": [],
   "source": [
    "os.chdir(\"C:\\\\Users\\\\Phoenix_Steve\\\\Desktop\\\\Python Programming Course\\\\section 6 homework\")"
   ]
  },
  {
   "cell_type": "code",
   "execution_count": 21,
   "metadata": {},
   "outputs": [
    {
     "data": {
      "text/plain": [
       "'C:\\\\Users\\\\Phoenix_Steve\\\\Desktop\\\\Python Programming Course\\\\section 6 homework'"
      ]
     },
     "execution_count": 21,
     "metadata": {},
     "output_type": "execute_result"
    }
   ],
   "source": [
    "os.getcwd()"
   ]
  },
  {
   "cell_type": "code",
   "execution_count": 22,
   "metadata": {},
   "outputs": [],
   "source": [
    "movies=pd.read_csv(\"P4-Section6-Homework-Dataset.csv\",encoding = \"ISO-8859-1\")"
   ]
  },
  {
   "cell_type": "code",
   "execution_count": 23,
   "metadata": {},
   "outputs": [
    {
     "data": {
      "text/plain": [
       "608"
      ]
     },
     "execution_count": 23,
     "metadata": {},
     "output_type": "execute_result"
    }
   ],
   "source": [
    "len(movies)"
   ]
  },
  {
   "cell_type": "code",
   "execution_count": 24,
   "metadata": {},
   "outputs": [
    {
     "data": {
      "text/html": [
       "<div>\n",
       "<style scoped>\n",
       "    .dataframe tbody tr th:only-of-type {\n",
       "        vertical-align: middle;\n",
       "    }\n",
       "\n",
       "    .dataframe tbody tr th {\n",
       "        vertical-align: top;\n",
       "    }\n",
       "\n",
       "    .dataframe thead th {\n",
       "        text-align: right;\n",
       "    }\n",
       "</style>\n",
       "<table border=\"1\" class=\"dataframe\">\n",
       "  <thead>\n",
       "    <tr style=\"text-align: right;\">\n",
       "      <th></th>\n",
       "      <th>Day of Week</th>\n",
       "      <th>Director</th>\n",
       "      <th>Genre</th>\n",
       "      <th>Movie Title</th>\n",
       "      <th>Release Date</th>\n",
       "      <th>Studio</th>\n",
       "      <th>Adjusted Gross ($mill)</th>\n",
       "      <th>Budget ($mill)</th>\n",
       "      <th>Gross ($mill)</th>\n",
       "      <th>IMDb Rating</th>\n",
       "      <th>MovieLens Rating</th>\n",
       "      <th>Overseas ($mill)</th>\n",
       "      <th>Overseas%</th>\n",
       "      <th>Profit ($mill)</th>\n",
       "      <th>Profit%</th>\n",
       "      <th>Runtime (min)</th>\n",
       "      <th>US ($mill)</th>\n",
       "      <th>Gross % US</th>\n",
       "    </tr>\n",
       "  </thead>\n",
       "  <tbody>\n",
       "    <tr>\n",
       "      <th>0</th>\n",
       "      <td>Friday</td>\n",
       "      <td>Brad Bird</td>\n",
       "      <td>action</td>\n",
       "      <td>Tomorrowland</td>\n",
       "      <td>22/05/2015</td>\n",
       "      <td>Buena Vista Studios</td>\n",
       "      <td>202.1</td>\n",
       "      <td>170.0</td>\n",
       "      <td>202.1</td>\n",
       "      <td>6.7</td>\n",
       "      <td>3.26</td>\n",
       "      <td>111.9</td>\n",
       "      <td>55.4</td>\n",
       "      <td>32.1</td>\n",
       "      <td>18.9</td>\n",
       "      <td>130</td>\n",
       "      <td>90.2</td>\n",
       "      <td>44.6</td>\n",
       "    </tr>\n",
       "    <tr>\n",
       "      <th>1</th>\n",
       "      <td>Friday</td>\n",
       "      <td>Scott Waugh</td>\n",
       "      <td>action</td>\n",
       "      <td>Need for Speed</td>\n",
       "      <td>14/03/2014</td>\n",
       "      <td>Buena Vista Studios</td>\n",
       "      <td>204.2</td>\n",
       "      <td>66.0</td>\n",
       "      <td>203.3</td>\n",
       "      <td>6.6</td>\n",
       "      <td>2.97</td>\n",
       "      <td>159.7</td>\n",
       "      <td>78.6</td>\n",
       "      <td>137.3</td>\n",
       "      <td>208.0</td>\n",
       "      <td>132</td>\n",
       "      <td>43.6</td>\n",
       "      <td>21.4</td>\n",
       "    </tr>\n",
       "    <tr>\n",
       "      <th>2</th>\n",
       "      <td>Friday</td>\n",
       "      <td>Patrick Hughes</td>\n",
       "      <td>action</td>\n",
       "      <td>The Expendables 3</td>\n",
       "      <td>15/08/2014</td>\n",
       "      <td>Lionsgate</td>\n",
       "      <td>207.1</td>\n",
       "      <td>100.0</td>\n",
       "      <td>206.2</td>\n",
       "      <td>6.1</td>\n",
       "      <td>2.93</td>\n",
       "      <td>166.9</td>\n",
       "      <td>80.9</td>\n",
       "      <td>106.2</td>\n",
       "      <td>106.2</td>\n",
       "      <td>126</td>\n",
       "      <td>39.3</td>\n",
       "      <td>19.1</td>\n",
       "    </tr>\n",
       "    <tr>\n",
       "      <th>3</th>\n",
       "      <td>Friday</td>\n",
       "      <td>Phil Lord, Chris Miller</td>\n",
       "      <td>comedy</td>\n",
       "      <td>21 Jump Street</td>\n",
       "      <td>16/03/2012</td>\n",
       "      <td>Sony</td>\n",
       "      <td>208.8</td>\n",
       "      <td>42.0</td>\n",
       "      <td>201.6</td>\n",
       "      <td>7.2</td>\n",
       "      <td>3.62</td>\n",
       "      <td>63.1</td>\n",
       "      <td>31.3</td>\n",
       "      <td>159.6</td>\n",
       "      <td>380.0</td>\n",
       "      <td>109</td>\n",
       "      <td>138.4</td>\n",
       "      <td>68.7</td>\n",
       "    </tr>\n",
       "    <tr>\n",
       "      <th>4</th>\n",
       "      <td>Friday</td>\n",
       "      <td>Roland Emmerich</td>\n",
       "      <td>action</td>\n",
       "      <td>White House Down</td>\n",
       "      <td>28/06/2013</td>\n",
       "      <td>Sony</td>\n",
       "      <td>209.7</td>\n",
       "      <td>150.0</td>\n",
       "      <td>205.4</td>\n",
       "      <td>8.0</td>\n",
       "      <td>3.65</td>\n",
       "      <td>132.3</td>\n",
       "      <td>64.4</td>\n",
       "      <td>55.4</td>\n",
       "      <td>36.9</td>\n",
       "      <td>131</td>\n",
       "      <td>73.1</td>\n",
       "      <td>35.6</td>\n",
       "    </tr>\n",
       "  </tbody>\n",
       "</table>\n",
       "</div>"
      ],
      "text/plain": [
       "  Day of Week                 Director   Genre        Movie Title  \\\n",
       "0      Friday                Brad Bird  action       Tomorrowland   \n",
       "1      Friday              Scott Waugh  action     Need for Speed   \n",
       "2      Friday           Patrick Hughes  action  The Expendables 3   \n",
       "3      Friday  Phil Lord, Chris Miller  comedy     21 Jump Street   \n",
       "4      Friday          Roland Emmerich  action   White House Down   \n",
       "\n",
       "  Release Date               Studio Adjusted Gross ($mill)  Budget ($mill)  \\\n",
       "0   22/05/2015  Buena Vista Studios                  202.1           170.0   \n",
       "1   14/03/2014  Buena Vista Studios                  204.2            66.0   \n",
       "2   15/08/2014            Lionsgate                  207.1           100.0   \n",
       "3   16/03/2012                 Sony                  208.8            42.0   \n",
       "4   28/06/2013                 Sony                  209.7           150.0   \n",
       "\n",
       "  Gross ($mill)  IMDb Rating  MovieLens Rating Overseas ($mill)  Overseas%  \\\n",
       "0         202.1          6.7              3.26            111.9       55.4   \n",
       "1         203.3          6.6              2.97            159.7       78.6   \n",
       "2         206.2          6.1              2.93            166.9       80.9   \n",
       "3         201.6          7.2              3.62             63.1       31.3   \n",
       "4         205.4          8.0              3.65            132.3       64.4   \n",
       "\n",
       "  Profit ($mill)  Profit%  Runtime (min)  US ($mill)  Gross % US  \n",
       "0           32.1     18.9            130        90.2        44.6  \n",
       "1          137.3    208.0            132        43.6        21.4  \n",
       "2          106.2    106.2            126        39.3        19.1  \n",
       "3          159.6    380.0            109       138.4        68.7  \n",
       "4           55.4     36.9            131        73.1        35.6  "
      ]
     },
     "execution_count": 24,
     "metadata": {},
     "output_type": "execute_result"
    }
   ],
   "source": [
    "movies.head()"
   ]
  },
  {
   "cell_type": "code",
   "execution_count": 25,
   "metadata": {},
   "outputs": [
    {
     "data": {
      "text/plain": [
       "Index(['Day of Week', 'Director', 'Genre', 'Movie Title', 'Release Date',\n",
       "       'Studio', 'Adjusted Gross ($mill)', 'Budget ($mill)', 'Gross ($mill)',\n",
       "       'IMDb Rating', 'MovieLens Rating', 'Overseas ($mill)', 'Overseas%',\n",
       "       'Profit ($mill)', 'Profit%', 'Runtime (min)', 'US ($mill)',\n",
       "       'Gross % US'],\n",
       "      dtype='object')"
      ]
     },
     "execution_count": 25,
     "metadata": {},
     "output_type": "execute_result"
    }
   ],
   "source": [
    "movies.columns"
   ]
  },
  {
   "cell_type": "code",
   "execution_count": 28,
   "metadata": {},
   "outputs": [
    {
     "data": {
      "text/plain": [
       "18"
      ]
     },
     "execution_count": 28,
     "metadata": {},
     "output_type": "execute_result"
    }
   ],
   "source": [
    "len(movies.columns)"
   ]
  },
  {
   "cell_type": "code",
   "execution_count": 31,
   "metadata": {},
   "outputs": [
    {
     "data": {
      "text/html": [
       "<div>\n",
       "<style scoped>\n",
       "    .dataframe tbody tr th:only-of-type {\n",
       "        vertical-align: middle;\n",
       "    }\n",
       "\n",
       "    .dataframe tbody tr th {\n",
       "        vertical-align: top;\n",
       "    }\n",
       "\n",
       "    .dataframe thead th {\n",
       "        text-align: right;\n",
       "    }\n",
       "</style>\n",
       "<table border=\"1\" class=\"dataframe\">\n",
       "  <thead>\n",
       "    <tr style=\"text-align: right;\">\n",
       "      <th></th>\n",
       "      <th>Day of Week</th>\n",
       "      <th>Director</th>\n",
       "      <th>Genre</th>\n",
       "      <th>Movie Title</th>\n",
       "      <th>Release Date</th>\n",
       "      <th>Studio</th>\n",
       "      <th>Adjusted Gross ($mill)</th>\n",
       "      <th>Budget ($mill)</th>\n",
       "      <th>Gross ($mill)</th>\n",
       "      <th>IMDb Rating</th>\n",
       "      <th>MovieLens Rating</th>\n",
       "      <th>Overseas ($mill)</th>\n",
       "      <th>Overseas%</th>\n",
       "      <th>Profit ($mill)</th>\n",
       "      <th>Profit%</th>\n",
       "      <th>Runtime (min)</th>\n",
       "      <th>US ($mill)</th>\n",
       "      <th>GrossPercUS</th>\n",
       "    </tr>\n",
       "  </thead>\n",
       "  <tbody>\n",
       "    <tr>\n",
       "      <th>0</th>\n",
       "      <td>Friday</td>\n",
       "      <td>Brad Bird</td>\n",
       "      <td>action</td>\n",
       "      <td>Tomorrowland</td>\n",
       "      <td>22/05/2015</td>\n",
       "      <td>Buena Vista Studios</td>\n",
       "      <td>202.1</td>\n",
       "      <td>170.0</td>\n",
       "      <td>202.1</td>\n",
       "      <td>6.7</td>\n",
       "      <td>3.26</td>\n",
       "      <td>111.9</td>\n",
       "      <td>55.4</td>\n",
       "      <td>32.1</td>\n",
       "      <td>18.9</td>\n",
       "      <td>130</td>\n",
       "      <td>90.2</td>\n",
       "      <td>44.6</td>\n",
       "    </tr>\n",
       "    <tr>\n",
       "      <th>1</th>\n",
       "      <td>Friday</td>\n",
       "      <td>Scott Waugh</td>\n",
       "      <td>action</td>\n",
       "      <td>Need for Speed</td>\n",
       "      <td>14/03/2014</td>\n",
       "      <td>Buena Vista Studios</td>\n",
       "      <td>204.2</td>\n",
       "      <td>66.0</td>\n",
       "      <td>203.3</td>\n",
       "      <td>6.6</td>\n",
       "      <td>2.97</td>\n",
       "      <td>159.7</td>\n",
       "      <td>78.6</td>\n",
       "      <td>137.3</td>\n",
       "      <td>208.0</td>\n",
       "      <td>132</td>\n",
       "      <td>43.6</td>\n",
       "      <td>21.4</td>\n",
       "    </tr>\n",
       "    <tr>\n",
       "      <th>2</th>\n",
       "      <td>Friday</td>\n",
       "      <td>Patrick Hughes</td>\n",
       "      <td>action</td>\n",
       "      <td>The Expendables 3</td>\n",
       "      <td>15/08/2014</td>\n",
       "      <td>Lionsgate</td>\n",
       "      <td>207.1</td>\n",
       "      <td>100.0</td>\n",
       "      <td>206.2</td>\n",
       "      <td>6.1</td>\n",
       "      <td>2.93</td>\n",
       "      <td>166.9</td>\n",
       "      <td>80.9</td>\n",
       "      <td>106.2</td>\n",
       "      <td>106.2</td>\n",
       "      <td>126</td>\n",
       "      <td>39.3</td>\n",
       "      <td>19.1</td>\n",
       "    </tr>\n",
       "    <tr>\n",
       "      <th>3</th>\n",
       "      <td>Friday</td>\n",
       "      <td>Phil Lord, Chris Miller</td>\n",
       "      <td>comedy</td>\n",
       "      <td>21 Jump Street</td>\n",
       "      <td>16/03/2012</td>\n",
       "      <td>Sony</td>\n",
       "      <td>208.8</td>\n",
       "      <td>42.0</td>\n",
       "      <td>201.6</td>\n",
       "      <td>7.2</td>\n",
       "      <td>3.62</td>\n",
       "      <td>63.1</td>\n",
       "      <td>31.3</td>\n",
       "      <td>159.6</td>\n",
       "      <td>380.0</td>\n",
       "      <td>109</td>\n",
       "      <td>138.4</td>\n",
       "      <td>68.7</td>\n",
       "    </tr>\n",
       "    <tr>\n",
       "      <th>4</th>\n",
       "      <td>Friday</td>\n",
       "      <td>Roland Emmerich</td>\n",
       "      <td>action</td>\n",
       "      <td>White House Down</td>\n",
       "      <td>28/06/2013</td>\n",
       "      <td>Sony</td>\n",
       "      <td>209.7</td>\n",
       "      <td>150.0</td>\n",
       "      <td>205.4</td>\n",
       "      <td>8.0</td>\n",
       "      <td>3.65</td>\n",
       "      <td>132.3</td>\n",
       "      <td>64.4</td>\n",
       "      <td>55.4</td>\n",
       "      <td>36.9</td>\n",
       "      <td>131</td>\n",
       "      <td>73.1</td>\n",
       "      <td>35.6</td>\n",
       "    </tr>\n",
       "    <tr>\n",
       "      <th>...</th>\n",
       "      <td>...</td>\n",
       "      <td>...</td>\n",
       "      <td>...</td>\n",
       "      <td>...</td>\n",
       "      <td>...</td>\n",
       "      <td>...</td>\n",
       "      <td>...</td>\n",
       "      <td>...</td>\n",
       "      <td>...</td>\n",
       "      <td>...</td>\n",
       "      <td>...</td>\n",
       "      <td>...</td>\n",
       "      <td>...</td>\n",
       "      <td>...</td>\n",
       "      <td>...</td>\n",
       "      <td>...</td>\n",
       "      <td>...</td>\n",
       "      <td>...</td>\n",
       "    </tr>\n",
       "    <tr>\n",
       "      <th>603</th>\n",
       "      <td>Wednesday</td>\n",
       "      <td>William Friedkin</td>\n",
       "      <td>horror</td>\n",
       "      <td>The Exorcist</td>\n",
       "      <td>26/12/1973</td>\n",
       "      <td>WB</td>\n",
       "      <td>2,363.60</td>\n",
       "      <td>12.0</td>\n",
       "      <td>441.3</td>\n",
       "      <td>6.9</td>\n",
       "      <td>3.39</td>\n",
       "      <td>208.4</td>\n",
       "      <td>47.2</td>\n",
       "      <td>429.3</td>\n",
       "      <td>3577.5</td>\n",
       "      <td>122</td>\n",
       "      <td>232.9</td>\n",
       "      <td>52.8</td>\n",
       "    </tr>\n",
       "    <tr>\n",
       "      <th>604</th>\n",
       "      <td>Wednesday</td>\n",
       "      <td>George Lucas</td>\n",
       "      <td>action</td>\n",
       "      <td>Star Wars</td>\n",
       "      <td>25/05/1977</td>\n",
       "      <td>Fox</td>\n",
       "      <td>3,042.80</td>\n",
       "      <td>11.0</td>\n",
       "      <td>775.4</td>\n",
       "      <td>8.7</td>\n",
       "      <td>4.19</td>\n",
       "      <td>314.4</td>\n",
       "      <td>40.5</td>\n",
       "      <td>764.4</td>\n",
       "      <td>6949.1</td>\n",
       "      <td>121</td>\n",
       "      <td>461.0</td>\n",
       "      <td>59.5</td>\n",
       "    </tr>\n",
       "    <tr>\n",
       "      <th>605</th>\n",
       "      <td>Friday</td>\n",
       "      <td>James Cameron</td>\n",
       "      <td>sci-fi</td>\n",
       "      <td>Avatar</td>\n",
       "      <td>18/12/2009</td>\n",
       "      <td>Fox</td>\n",
       "      <td>3,090.40</td>\n",
       "      <td>237.0</td>\n",
       "      <td>2,788</td>\n",
       "      <td>7.9</td>\n",
       "      <td>3.78</td>\n",
       "      <td>2,027.50</td>\n",
       "      <td>72.7</td>\n",
       "      <td>2,551</td>\n",
       "      <td>1076.4</td>\n",
       "      <td>162</td>\n",
       "      <td>760.5</td>\n",
       "      <td>27.3</td>\n",
       "    </tr>\n",
       "    <tr>\n",
       "      <th>606</th>\n",
       "      <td>Wednesday</td>\n",
       "      <td>James Cameron</td>\n",
       "      <td>drama</td>\n",
       "      <td>Titanic</td>\n",
       "      <td>17/12/1997</td>\n",
       "      <td>Paramount Pictures</td>\n",
       "      <td>3,240.10</td>\n",
       "      <td>200.0</td>\n",
       "      <td>2,186.80</td>\n",
       "      <td>7.7</td>\n",
       "      <td>3.38</td>\n",
       "      <td>1,528.10</td>\n",
       "      <td>69.9</td>\n",
       "      <td>1,986.80</td>\n",
       "      <td>993.4</td>\n",
       "      <td>194</td>\n",
       "      <td>658.7</td>\n",
       "      <td>30.1</td>\n",
       "    </tr>\n",
       "    <tr>\n",
       "      <th>607</th>\n",
       "      <td>Friday</td>\n",
       "      <td>George Cukor, Victor Fleming, Sam Wood</td>\n",
       "      <td>drama</td>\n",
       "      <td>Gone with the Wind</td>\n",
       "      <td>15/12/1939</td>\n",
       "      <td>MGM</td>\n",
       "      <td>6,846.70</td>\n",
       "      <td>3.9</td>\n",
       "      <td>400.2</td>\n",
       "      <td>8.2</td>\n",
       "      <td>3.83</td>\n",
       "      <td>201.5</td>\n",
       "      <td>50.4</td>\n",
       "      <td>396.3</td>\n",
       "      <td>10161.5</td>\n",
       "      <td>238</td>\n",
       "      <td>198.7</td>\n",
       "      <td>49.6</td>\n",
       "    </tr>\n",
       "  </tbody>\n",
       "</table>\n",
       "<p>608 rows × 18 columns</p>\n",
       "</div>"
      ],
      "text/plain": [
       "    Day of Week                                Director   Genre  \\\n",
       "0        Friday                               Brad Bird  action   \n",
       "1        Friday                             Scott Waugh  action   \n",
       "2        Friday                          Patrick Hughes  action   \n",
       "3        Friday                 Phil Lord, Chris Miller  comedy   \n",
       "4        Friday                         Roland Emmerich  action   \n",
       "..          ...                                     ...     ...   \n",
       "603   Wednesday                        William Friedkin  horror   \n",
       "604   Wednesday                            George Lucas  action   \n",
       "605      Friday                           James Cameron  sci-fi   \n",
       "606   Wednesday                           James Cameron   drama   \n",
       "607      Friday  George Cukor, Victor Fleming, Sam Wood   drama   \n",
       "\n",
       "            Movie Title Release Date               Studio  \\\n",
       "0          Tomorrowland   22/05/2015  Buena Vista Studios   \n",
       "1        Need for Speed   14/03/2014  Buena Vista Studios   \n",
       "2     The Expendables 3   15/08/2014            Lionsgate   \n",
       "3        21 Jump Street   16/03/2012                 Sony   \n",
       "4      White House Down   28/06/2013                 Sony   \n",
       "..                  ...          ...                  ...   \n",
       "603        The Exorcist   26/12/1973                   WB   \n",
       "604           Star Wars   25/05/1977                  Fox   \n",
       "605              Avatar   18/12/2009                  Fox   \n",
       "606             Titanic   17/12/1997   Paramount Pictures   \n",
       "607  Gone with the Wind   15/12/1939                  MGM   \n",
       "\n",
       "    Adjusted Gross ($mill)  Budget ($mill) Gross ($mill)  IMDb Rating  \\\n",
       "0                    202.1           170.0         202.1          6.7   \n",
       "1                    204.2            66.0         203.3          6.6   \n",
       "2                    207.1           100.0         206.2          6.1   \n",
       "3                    208.8            42.0         201.6          7.2   \n",
       "4                    209.7           150.0         205.4          8.0   \n",
       "..                     ...             ...           ...          ...   \n",
       "603               2,363.60            12.0         441.3          6.9   \n",
       "604               3,042.80            11.0         775.4          8.7   \n",
       "605               3,090.40           237.0         2,788          7.9   \n",
       "606               3,240.10           200.0      2,186.80          7.7   \n",
       "607               6,846.70             3.9         400.2          8.2   \n",
       "\n",
       "     MovieLens Rating Overseas ($mill)  Overseas% Profit ($mill)  Profit%  \\\n",
       "0                3.26            111.9       55.4           32.1     18.9   \n",
       "1                2.97            159.7       78.6          137.3    208.0   \n",
       "2                2.93            166.9       80.9          106.2    106.2   \n",
       "3                3.62             63.1       31.3          159.6    380.0   \n",
       "4                3.65            132.3       64.4           55.4     36.9   \n",
       "..                ...              ...        ...            ...      ...   \n",
       "603              3.39            208.4       47.2          429.3   3577.5   \n",
       "604              4.19            314.4       40.5          764.4   6949.1   \n",
       "605              3.78         2,027.50       72.7          2,551   1076.4   \n",
       "606              3.38         1,528.10       69.9       1,986.80    993.4   \n",
       "607              3.83            201.5       50.4          396.3  10161.5   \n",
       "\n",
       "     Runtime (min)  US ($mill)  GrossPercUS  \n",
       "0              130        90.2         44.6  \n",
       "1              132        43.6         21.4  \n",
       "2              126        39.3         19.1  \n",
       "3              109       138.4         68.7  \n",
       "4              131        73.1         35.6  \n",
       "..             ...         ...          ...  \n",
       "603            122       232.9         52.8  \n",
       "604            121       461.0         59.5  \n",
       "605            162       760.5         27.3  \n",
       "606            194       658.7         30.1  \n",
       "607            238       198.7         49.6  \n",
       "\n",
       "[608 rows x 18 columns]"
      ]
     },
     "execution_count": 31,
     "metadata": {},
     "output_type": "execute_result"
    }
   ],
   "source": [
    "movies.rename(columns= {'Gross % US':'GrossPercUS'})"
   ]
  },
  {
   "cell_type": "code",
   "execution_count": 32,
   "metadata": {},
   "outputs": [
    {
     "name": "stdout",
     "output_type": "stream",
     "text": [
      "<class 'pandas.core.frame.DataFrame'>\n",
      "RangeIndex: 608 entries, 0 to 607\n",
      "Data columns (total 18 columns):\n",
      " #   Column                  Non-Null Count  Dtype  \n",
      "---  ------                  --------------  -----  \n",
      " 0   Day of Week             608 non-null    object \n",
      " 1   Director                608 non-null    object \n",
      " 2   Genre                   608 non-null    object \n",
      " 3   Movie Title             608 non-null    object \n",
      " 4   Release Date            608 non-null    object \n",
      " 5   Studio                  608 non-null    object \n",
      " 6   Adjusted Gross ($mill)  608 non-null    object \n",
      " 7   Budget ($mill)          608 non-null    float64\n",
      " 8   Gross ($mill)           608 non-null    object \n",
      " 9   IMDb Rating             608 non-null    float64\n",
      " 10  MovieLens Rating        608 non-null    float64\n",
      " 11  Overseas ($mill)        608 non-null    object \n",
      " 12  Overseas%               608 non-null    float64\n",
      " 13  Profit ($mill)          608 non-null    object \n",
      " 14  Profit%                 608 non-null    float64\n",
      " 15  Runtime (min)           608 non-null    int64  \n",
      " 16  US ($mill)              608 non-null    float64\n",
      " 17  Gross % US              608 non-null    float64\n",
      "dtypes: float64(7), int64(1), object(10)\n",
      "memory usage: 85.6+ KB\n"
     ]
    }
   ],
   "source": [
    "movies.info()"
   ]
  },
  {
   "cell_type": "code",
   "execution_count": 35,
   "metadata": {},
   "outputs": [],
   "source": [
    "movies.Genre = movies.Genre.astype('category')\n",
    "movies.Studio = movies.Studio.astype('category')"
   ]
  },
  {
   "cell_type": "code",
   "execution_count": 34,
   "metadata": {},
   "outputs": [
    {
     "data": {
      "text/plain": [
       "Index(['action', 'adventure', 'animation', 'biography', 'comedy', 'crime',\n",
       "       'documentary', 'drama', 'fantasy', 'horror', 'musical', 'mystery',\n",
       "       'romance', 'sci-fi', 'thriller'],\n",
       "      dtype='object')"
      ]
     },
     "execution_count": 34,
     "metadata": {},
     "output_type": "execute_result"
    }
   ],
   "source": [
    "movies.Genre.cat.categories"
   ]
  },
  {
   "cell_type": "code",
   "execution_count": 36,
   "metadata": {},
   "outputs": [
    {
     "data": {
      "text/plain": [
       "Index(['Art House Studios', 'Buena Vista Studios', 'Colombia Pictures',\n",
       "       'Dimension Films', 'Disney', 'DreamWorks', 'Fox',\n",
       "       'Fox Searchlight Pictures', 'Gramercy Pictures', 'IFC', 'Lionsgate',\n",
       "       'Lionsgate Films', 'Lionsgate/Summit', 'MGM', 'MiraMax',\n",
       "       'New Line Cinema', 'New Market Films', 'Orion',\n",
       "       'Pacific Data/DreamWorks', 'Paramount Pictures', 'Path_ Distribution',\n",
       "       'Relativity Media', 'Revolution Studios', 'Screen Gems', 'Sony',\n",
       "       'Sony Picture Classics', 'StudioCanal', 'Summit Entertainment',\n",
       "       'TriStar', 'UA Entertainment', 'USA', 'Universal', 'Vestron Pictures',\n",
       "       'WB', 'WB/New Line', 'Weinstein Company'],\n",
       "      dtype='object')"
      ]
     },
     "execution_count": 36,
     "metadata": {},
     "output_type": "execute_result"
    }
   ],
   "source": [
    "movies.Studio.cat.categories"
   ]
  },
  {
   "cell_type": "code",
   "execution_count": 37,
   "metadata": {},
   "outputs": [
    {
     "data": {
      "text/plain": [
       "True"
      ]
     },
     "execution_count": 37,
     "metadata": {},
     "output_type": "execute_result"
    }
   ],
   "source": [
    "True|False"
   ]
  },
  {
   "cell_type": "code",
   "execution_count": 58,
   "metadata": {},
   "outputs": [],
   "source": [
    "movies= movies[(movies.Genre == 'action')|(movies.Genre == 'adventure')|\n",
    "       (movies.Genre == 'animation')|(movies.Genre == 'comedy')|\n",
    "       (movies.Genre == 'drama')]\n",
    "#genre_filters = ['action', 'adventure','animation','comedy','drama']\n",
    "#mov[mov.Genre.isin(genre_filters)]"
   ]
  },
  {
   "cell_type": "code",
   "execution_count": 59,
   "metadata": {},
   "outputs": [],
   "source": [
    "movies= movies[(movies.Studio == 'Buena Vista Studios')|\n",
    "                (movies.Studio == 'Sony')|\n",
    "       (movies.Studio == 'Universal')|(movies.Studio == 'WB')|\n",
    "       (movies.Studio == 'Paramount Pictures')|\n",
    "       (movies.Studio == 'Fox')]"
   ]
  },
  {
   "cell_type": "code",
   "execution_count": 60,
   "metadata": {},
   "outputs": [],
   "source": [
    "from matplotlib import pyplot as plt\n",
    "import seaborn as sns\n",
    "%matplotlib inline"
   ]
  },
  {
   "cell_type": "code",
   "execution_count": 61,
   "metadata": {},
   "outputs": [],
   "source": [
    "movies.rename(columns={'Gross % US':'GrossPercUS'}, inplace=True)"
   ]
  },
  {
   "cell_type": "code",
   "execution_count": 113,
   "metadata": {},
   "outputs": [
    {
     "data": {
      "image/png": "[encoded data removed]",
      "text/plain": [
       "<Figure size 842.4x595.44 with 1 Axes>"
      ]
     },
     "metadata": {},
     "output_type": "display_data"
    }
   ],
   "source": [
    "sns.set_style('darkgrid')\n",
    "f, axes=plt.subplots()\n",
    "f.set_size_inches(11.7,8.27)\n",
    "movies.Genre.cat.remove_unused_categories(inplace=True)\n",
    "movies.Studio.cat.remove_unused_categories(inplace=True)\n",
    "y = sns.boxplot(data=movies, x='Genre', y='GrossPercUS', showfliers=False, color='lightgray')\n",
    "plt.setp(y.artists, alpha=0.5)\n",
    "y = sns.stripplot(data=movies, x='Genre', y='GrossPercUS', hue='Studio',size=8, alpha =0.7)\n",
    "plt.title(\"Domestic Gross % by Genre\", fontsize=45, color=\"Black\")\n",
    "plt.ylabel(\"Gross % US\", fontsize=35, color= \"Black\")\n",
    "plt.xlabel(\"Genre\", fontsize=35, color= \"Black\")\n",
    "plt.yticks(fontsize=25)\n",
    "plt.xticks(fontsize=25)\n",
    "y.set(ylim=(0,90))\n",
    "axes.set_yticks(axes.get_yticks()[::2])\n",
    "plt.legend(loc='upper left',bbox_to_anchor=(1,1),prop={'size':15},shadow=True, frameon=True, facecolor='white')\n",
    "plt.show()"
   ]
  },
  {
   "cell_type": "code",
   "execution_count": null,
   "metadata": {},
   "outputs": [],
   "source": []
  }
 ],
 "metadata": {
  "kernelspec": {
   "display_name": "Python 3",
   "language": "python",
   "name": "python3"
  },
  "language_info": {
   "codemirror_mode": {
    "name": "ipython",
    "version": 3
   },
   "file_extension": ".py",
   "mimetype": "text/x-python",
   "name": "python",
   "nbconvert_exporter": "python",
   "pygments_lexer": "ipython3",
   "version": "3.7.7"
  }
 },
 "nbformat": 4,
 "nbformat_minor": 4
}
