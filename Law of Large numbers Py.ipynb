{
 "cells": [
  {
   "cell_type": "markdown",
   "metadata": {},
   "source": [
    "# Python Programming A-Z™: R For Data Science\n",
    "\n",
    "© Kirill Eremenko, SuperDataScience Team [SuperDataScience](https://www.superdatascience.com)\n",
    "\n",
    "Created on May 12th, 2020 @author: totengl"
   ]
  },
  {
   "cell_type": "code",
   "execution_count": 14,
   "metadata": {},
   "outputs": [
    {
     "name": "stdout",
     "output_type": "stream",
     "text": [
      "Count=  6825480\n",
      "Mean =  0.682548\n"
     ]
    }
   ],
   "source": [
    "import numpy\n",
    "from numpy.random import randn\n",
    "N= 10000000\n",
    "count=0\n",
    "for i in range(N):\n",
    "    x=randn()\n",
    "    if x>-1 and x<1:\n",
    "        count=count+1\n",
    "mean=count/N\n",
    "print(\"Count= \", count)\n",
    "print(\"Mean = \", mean)"
   ]
  },
  {
   "cell_type": "code",
   "execution_count": null,
   "metadata": {},
   "outputs": [],
   "source": []
  },
  {
   "cell_type": "code",
   "execution_count": null,
   "metadata": {},
   "outputs": [],
   "source": []
  }
 ],
 "metadata": {
  "kernelspec": {
   "display_name": "Python 3",
   "language": "python",
   "name": "python3"
  },
  "language_info": {
   "codemirror_mode": {
    "name": "ipython",
    "version": 3
   },
   "file_extension": ".py",
   "mimetype": "text/x-python",
   "name": "python",
   "nbconvert_exporter": "python",
   "pygments_lexer": "ipython3",
   "version": "3.7.7"
  }
 },
 "nbformat": 4,
 "nbformat_minor": 4
}
